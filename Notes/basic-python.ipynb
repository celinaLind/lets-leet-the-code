{
 "cells": [
  {
   "cell_type": "markdown",
   "metadata": {},
   "source": [
    "## Extract a substring from a string using the slicing operator [:].\n",
    "\n",
    "**Syntax:**\n",
    "\n",
    "`string[start:end:step]`\n",
    "\n",
    "- **start:** The index of the first character to include in the substring. (Default: 0)\n",
    "- **end:** The index of the first character not to include in the substring. (Default: Length of the string)\n",
    "- **step:** The number of characters to skip between each character in the substring. (Default: 1)"
   ]
  },
  {
   "cell_type": "markdown",
   "metadata": {},
   "source": [
    "# Iterate over string"
   ]
  },
  {
   "cell_type": "code",
   "execution_count": null,
   "metadata": {
    "vscode": {
     "languageId": "plaintext"
    }
   },
   "outputs": [],
   "source": [
    "# 1. Direct Iteration:\n",
    "\n",
    "my_string = \"Hello, World!\"\n",
    "\n",
    "for character in my_string:\n",
    "    print(character)\n",
    "\n",
    "# This will print each character in the string on a new line.\n",
    "\n",
    "\n",
    "# 2. Using the range() function and indexing:\n",
    "\n",
    "my_string = \"Python\"\n",
    "\n",
    "for i in range(len(my_string)):\n",
    "    print(my_string[i])\n",
    "\n",
    "# This will print each character in the string on a new line, using the index to access each character.\n",
    "\n",
    "\n",
    "# 3. Using enumerate() for index and character:\n",
    "\n",
    "my_string = \"Python\"\n",
    "\n",
    "for index, character in enumerate(my_string):\n",
    "    print(f\"Index: {index}, Character: {character}\")\n",
    "\n",
    "# This will print each character along with its index in the string."
   ]
  },
  {
   "cell_type": "code",
   "execution_count": null,
   "metadata": {
    "vscode": {
     "languageId": "plaintext"
    }
   },
   "outputs": [],
   "source": [
    "review python built-in functions\n",
    " [min(), max(), len(), ...]\n",
    "\n",
    "docstring = description of python function or long comment\n",
    "\n",
    "Ex.\n",
    " \"\"\"\n",
    "    This function adds two numbers.\n",
    "\n",
    "    Args:\n",
    "        a (int): The first number.\n",
    "        b (int): The second number.\n",
    "\n",
    "    Returns:\n",
    "        int: The sum of a and b.\n",
    "    \"\"\"\n",
    "\n",
    "continue vs break\n",
    "\n",
    "for i in range(1, 6):\n",
    "    if i == 3:\n",
    "        continue  # Skip iteration when i is 3\n",
    "    if i == 5:\n",
    "        break  # Exit the loop when i is 5\n",
    "    print(i)\n",
    "\n",
    "delete array between indexes\n",
    "arr = [1, 2, 3, 4, 5, 6]\n",
    "\n",
    "# Delete elements from index 2 to 4 (exclusive)\n",
    "del arr[2:4]\n",
    "\n",
    "print(arr)\n",
    "\n",
    "**For NumPy arrays\n",
    "# Delete elements at indices 2 and 3\n",
    "new_arr = np.delete(arr, [2, 3])\n",
    "\n",
    "** or you can create a new list w/o affecting the original (list slicing and concatenation)\n",
    "\n",
    "# Delete elements from index 2 to 4 (exclusive)\n",
    "new_arr = arr[:2] + arr[4:]"
   ]
  }
 ],
 "metadata": {
  "language_info": {
   "name": "python"
  }
 },
 "nbformat": 4,
 "nbformat_minor": 2
}
