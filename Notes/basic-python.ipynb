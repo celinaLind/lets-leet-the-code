{
 "cells": [
  {
   "cell_type": "code",
   "execution_count": null,
   "metadata": {
    "vscode": {
     "languageId": "plaintext"
    }
   },
   "outputs": [],
   "source": [
    "review python built-in functions\n",
    " [min(), max(), len(), ...]\n",
    "\n",
    "docstring = description of python function or long comment\n",
    "\n",
    "Ex.\n",
    " \"\"\"\n",
    "    This function adds two numbers.\n",
    "\n",
    "    Args:\n",
    "        a (int): The first number.\n",
    "        b (int): The second number.\n",
    "\n",
    "    Returns:\n",
    "        int: The sum of a and b.\n",
    "    \"\"\"\n",
    "\n",
    "continue vs break\n",
    "\n",
    "for i in range(1, 6):\n",
    "    if i == 3:\n",
    "        continue  # Skip iteration when i is 3\n",
    "    if i == 5:\n",
    "        break  # Exit the loop when i is 5\n",
    "    print(i)\n",
    "\n",
    "delete array between indexes\n",
    "arr = [1, 2, 3, 4, 5, 6]\n",
    "\n",
    "# Delete elements from index 2 to 4 (exclusive)\n",
    "del arr[2:4]\n",
    "\n",
    "print(arr)\n",
    "\n",
    "**For NumPy arrays\n",
    "# Delete elements at indices 2 and 3\n",
    "new_arr = np.delete(arr, [2, 3])\n",
    "\n",
    "** or you can create a new list w/o affecting the original (list slicing and concatenation)\n",
    "\n",
    "# Delete elements from index 2 to 4 (exclusive)\n",
    "new_arr = arr[:2] + arr[4:]"
   ]
  }
 ],
 "metadata": {
  "language_info": {
   "name": "python"
  }
 },
 "nbformat": 4,
 "nbformat_minor": 2
}
